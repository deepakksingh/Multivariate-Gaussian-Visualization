{
 "cells": [
  {
   "cell_type": "code",
   "execution_count": 7,
   "metadata": {},
   "outputs": [],
   "source": [
    "import numpy as np\n",
    "from ipywidgets import interactive\n",
    "from IPython.display import display\n",
    "from matplotlib import pyplot as plt"
   ]
  },
  {
   "cell_type": "code",
   "execution_count": 8,
   "metadata": {},
   "outputs": [],
   "source": [
    "def calc_gaussian(x, mu_i, sigma_i):\n",
    "    '''Calculates the Normal Value given x, Mean(mu_i), Standard Deviation(sigma_i)'''\n",
    "    temp1 = x-mu_i\n",
    "    temp2 = temp1/sigma_i\n",
    "    temp3 = -0.5*(temp2**2)\n",
    "    temp4 = np.exp(temp3)\n",
    "    temp5 = 1/(sigma_i*np.sqrt(2*np.pi))\n",
    "    return temp5*temp4\n"
   ]
  },
  {
   "cell_type": "code",
   "execution_count": 9,
   "metadata": {},
   "outputs": [
    {
     "data": {
      "application/vnd.jupyter.widget-view+json": {
       "model_id": "7f5f193e3cf1437c9a145cda9a277ca1",
       "version_major": 2,
       "version_minor": 0
      },
      "text/plain": [
       "interactive(children=(FloatSlider(value=0.0, description='mu', max=5.0, min=-5.0, step=0.001), FloatSlider(val…"
      ]
     },
     "metadata": {},
     "output_type": "display_data"
    }
   ],
   "source": [
    "def univariate_gaussian(mu,sig):\n",
    "    '''call back function for the interactive widget'''\n",
    "    x_i = np.linspace(-10,10,1000)\n",
    "    y_i = [calc_gaussian(i,mu,sig) for i in x_i]\n",
    "    plt.plot(x_i, y_i)  \n",
    "    plt.show()\n",
    "\n",
    "interactive_plot = interactive(univariate_gaussian, mu=(-5.0,5.0,0.001), sig=(0.01,5,0.01))\n",
    "output = interactive_plot.children[-1]\n",
    "interactive_plot"
   ]
  }
 ],
 "metadata": {
  "kernelspec": {
   "display_name": "Python 3",
   "language": "python",
   "name": "python3"
  },
  "language_info": {
   "codemirror_mode": {
    "name": "ipython",
    "version": 3
   },
   "file_extension": ".py",
   "mimetype": "text/x-python",
   "name": "python",
   "nbconvert_exporter": "python",
   "pygments_lexer": "ipython3",
   "version": "3.7.3"
  }
 },
 "nbformat": 4,
 "nbformat_minor": 2
}
